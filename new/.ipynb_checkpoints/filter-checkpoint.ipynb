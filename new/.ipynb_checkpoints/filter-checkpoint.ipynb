{
 "cells": [
  {
   "cell_type": "code",
   "execution_count": 31,
   "metadata": {},
   "outputs": [],
   "source": [
    "import snappy\n",
    "from snappy import ProductIO\n",
    "import os\n",
    "import calibrate\n",
    "import gc\n",
    "import pandas as pd\n",
    "\n",
    "#filepath = '/Users/yangchao/GitHub/wind/download/'\n",
    "filepath = '/Volumes/Yangchao/Sentient/'\n",
    "\n",
    "#filepath = '/Users/yangchao/GitHub/wind/snap/data/'\n",
    "Height = 400\n",
    "Width = 400\n",
    "\n",
    "subsetop = snappy.jpy.get_type('org.esa.snap.core.gpf.common.SubsetOp')\n",
    "wktreader = snappy.jpy.get_type('com.vividsolutions.jts.io.WKTReader')\n",
    "rectangel = snappy.jpy.get_type('java.awt.Rectangle')\n",
    "pixelpos = snappy.jpy.get_type('org.esa.snap.core.datamodel.PixelPos')\n",
    "geopos = snappy.jpy.get_type('org.esa.snap.core.datamodel.GeoPos')\n",
    "filterop = snappy.jpy.get_type('org.esa.snap.raster.gpf.FilterOperator')"
   ]
  },
  {
   "cell_type": "code",
   "execution_count": 43,
   "metadata": {},
   "outputs": [],
   "source": [
    "fop = filterop()"
   ]
  },
  {
   "cell_type": "code",
   "execution_count": 44,
   "metadata": {},
   "outputs": [],
   "source": [
    "fop.setParameterDefaultValues()"
   ]
  },
  {
   "cell_type": "code",
   "execution_count": 45,
   "metadata": {},
   "outputs": [],
   "source": [
    "file_ = ProductIO.readProduct('/Volumes/Yangchao/Sentient/S1A_EW_GRDM_1SDV_20170518T234027_20170518T234131_016643_01B9E7_5E03.zip')"
   ]
  },
  {
   "cell_type": "code",
   "execution_count": 46,
   "metadata": {},
   "outputs": [],
   "source": [
    "fop.setSourceProduct(file_)\n"
   ]
  },
  {
   "cell_type": "code",
   "execution_count": 47,
   "metadata": {},
   "outputs": [],
   "source": [
    "fop.setParameter('Kernel File', 'Sobel South')"
   ]
  },
  {
   "cell_type": "code",
   "execution_count": 52,
   "metadata": {},
   "outputs": [],
   "source": [
    "data = fop.getTargetProduct()"
   ]
  },
  {
   "cell_type": "code",
   "execution_count": 53,
   "metadata": {},
   "outputs": [],
   "source": [
    "ProductIO.writeProduct(data, './file', 'BEAM-DIMAP')"
   ]
  },
  {
   "cell_type": "code",
   "execution_count": 54,
   "metadata": {},
   "outputs": [],
   "source": [
    "fop.setParameter('Source Bands', 'lntensity_VV')"
   ]
  },
  {
   "cell_type": "code",
   "execution_count": null,
   "metadata": {},
   "outputs": [],
   "source": []
  }
 ],
 "metadata": {
  "kernelspec": {
   "display_name": "Python [conda env:py27]",
   "language": "python",
   "name": "conda-env-py27-py"
  },
  "language_info": {
   "codemirror_mode": {
    "name": "ipython",
    "version": 2
   },
   "file_extension": ".py",
   "mimetype": "text/x-python",
   "name": "python",
   "nbconvert_exporter": "python",
   "pygments_lexer": "ipython2",
   "version": "2.7.13"
  }
 },
 "nbformat": 4,
 "nbformat_minor": 2
}
